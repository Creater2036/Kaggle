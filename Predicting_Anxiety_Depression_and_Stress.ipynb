{
 "cells": [
  {
   "cell_type": "markdown",
   "metadata": {},
   "source": [
    "Ideas:\n",
    "1. I can compare multiple things to the time it takes to complete this survey, such as education to testelapse.\n",
    "2. I can also make a target column by getting the mean number of all the questions."
   ]
  },
  {
   "cell_type": "markdown",
   "metadata": {},
   "source": [
    "Hi everyone! So for this analysis I've decided to try something a little different. What I'm doing to do is use the personal questions along with some other variables to try and predict what someone's answer to Q_A question would be. I will also be doing EDA to gain a better understanding of unique features in the data and help us understand more about the people doing these tests."
   ]
  },
  {
   "cell_type": "code",
   "execution_count": 1,
   "metadata": {},
   "outputs": [],
   "source": [
    "import numpy as np\n",
    "import pandas as pd\n",
    "import matplotlib.pyplot as plt\n",
    "import seaborn as sns\n",
    "pd.options.mode.chained_assignment = None "
   ]
  },
  {
   "cell_type": "code",
   "execution_count": 2,
   "metadata": {},
   "outputs": [
    {
     "data": {
      "text/html": [
       "<div>\n",
       "<style scoped>\n",
       "    .dataframe tbody tr th:only-of-type {\n",
       "        vertical-align: middle;\n",
       "    }\n",
       "\n",
       "    .dataframe tbody tr th {\n",
       "        vertical-align: top;\n",
       "    }\n",
       "\n",
       "    .dataframe thead th {\n",
       "        text-align: right;\n",
       "    }\n",
       "</style>\n",
       "<table border=\"1\" class=\"dataframe\">\n",
       "  <thead>\n",
       "    <tr style=\"text-align: right;\">\n",
       "      <th></th>\n",
       "      <th>Q1A</th>\n",
       "      <th>Q1I</th>\n",
       "      <th>Q1E</th>\n",
       "      <th>Q2A</th>\n",
       "      <th>Q2I</th>\n",
       "      <th>Q2E</th>\n",
       "      <th>Q3A</th>\n",
       "      <th>Q3I</th>\n",
       "      <th>Q3E</th>\n",
       "      <th>Q4A</th>\n",
       "      <th>...</th>\n",
       "      <th>screensize</th>\n",
       "      <th>uniquenetworklocation</th>\n",
       "      <th>hand</th>\n",
       "      <th>religion</th>\n",
       "      <th>orientation</th>\n",
       "      <th>race</th>\n",
       "      <th>voted</th>\n",
       "      <th>married</th>\n",
       "      <th>familysize</th>\n",
       "      <th>major</th>\n",
       "    </tr>\n",
       "  </thead>\n",
       "  <tbody>\n",
       "    <tr>\n",
       "      <th>0</th>\n",
       "      <td>4</td>\n",
       "      <td>28</td>\n",
       "      <td>3890</td>\n",
       "      <td>4</td>\n",
       "      <td>25</td>\n",
       "      <td>2122</td>\n",
       "      <td>2</td>\n",
       "      <td>16</td>\n",
       "      <td>1944</td>\n",
       "      <td>4</td>\n",
       "      <td>...</td>\n",
       "      <td>1</td>\n",
       "      <td>1</td>\n",
       "      <td>1</td>\n",
       "      <td>12</td>\n",
       "      <td>1</td>\n",
       "      <td>10</td>\n",
       "      <td>2</td>\n",
       "      <td>1</td>\n",
       "      <td>2</td>\n",
       "      <td>NaN</td>\n",
       "    </tr>\n",
       "    <tr>\n",
       "      <th>1</th>\n",
       "      <td>4</td>\n",
       "      <td>2</td>\n",
       "      <td>8118</td>\n",
       "      <td>1</td>\n",
       "      <td>36</td>\n",
       "      <td>2890</td>\n",
       "      <td>2</td>\n",
       "      <td>35</td>\n",
       "      <td>4777</td>\n",
       "      <td>3</td>\n",
       "      <td>...</td>\n",
       "      <td>2</td>\n",
       "      <td>1</td>\n",
       "      <td>2</td>\n",
       "      <td>7</td>\n",
       "      <td>0</td>\n",
       "      <td>70</td>\n",
       "      <td>2</td>\n",
       "      <td>1</td>\n",
       "      <td>4</td>\n",
       "      <td>NaN</td>\n",
       "    </tr>\n",
       "    <tr>\n",
       "      <th>2</th>\n",
       "      <td>3</td>\n",
       "      <td>7</td>\n",
       "      <td>5784</td>\n",
       "      <td>1</td>\n",
       "      <td>33</td>\n",
       "      <td>4373</td>\n",
       "      <td>4</td>\n",
       "      <td>41</td>\n",
       "      <td>3242</td>\n",
       "      <td>1</td>\n",
       "      <td>...</td>\n",
       "      <td>2</td>\n",
       "      <td>1</td>\n",
       "      <td>1</td>\n",
       "      <td>4</td>\n",
       "      <td>3</td>\n",
       "      <td>60</td>\n",
       "      <td>1</td>\n",
       "      <td>1</td>\n",
       "      <td>3</td>\n",
       "      <td>NaN</td>\n",
       "    </tr>\n",
       "    <tr>\n",
       "      <th>3</th>\n",
       "      <td>2</td>\n",
       "      <td>23</td>\n",
       "      <td>5081</td>\n",
       "      <td>3</td>\n",
       "      <td>11</td>\n",
       "      <td>6837</td>\n",
       "      <td>2</td>\n",
       "      <td>37</td>\n",
       "      <td>5521</td>\n",
       "      <td>1</td>\n",
       "      <td>...</td>\n",
       "      <td>2</td>\n",
       "      <td>1</td>\n",
       "      <td>2</td>\n",
       "      <td>4</td>\n",
       "      <td>5</td>\n",
       "      <td>70</td>\n",
       "      <td>2</td>\n",
       "      <td>1</td>\n",
       "      <td>5</td>\n",
       "      <td>biology</td>\n",
       "    </tr>\n",
       "    <tr>\n",
       "      <th>4</th>\n",
       "      <td>2</td>\n",
       "      <td>36</td>\n",
       "      <td>3215</td>\n",
       "      <td>2</td>\n",
       "      <td>13</td>\n",
       "      <td>7731</td>\n",
       "      <td>3</td>\n",
       "      <td>5</td>\n",
       "      <td>4156</td>\n",
       "      <td>4</td>\n",
       "      <td>...</td>\n",
       "      <td>2</td>\n",
       "      <td>2</td>\n",
       "      <td>3</td>\n",
       "      <td>10</td>\n",
       "      <td>1</td>\n",
       "      <td>10</td>\n",
       "      <td>2</td>\n",
       "      <td>1</td>\n",
       "      <td>4</td>\n",
       "      <td>Psychology</td>\n",
       "    </tr>\n",
       "  </tbody>\n",
       "</table>\n",
       "<p>5 rows × 172 columns</p>\n",
       "</div>"
      ],
      "text/plain": [
       "   Q1A  Q1I   Q1E  Q2A  Q2I   Q2E  Q3A  Q3I   Q3E  Q4A  ...  screensize  \\\n",
       "0    4   28  3890    4   25  2122    2   16  1944    4  ...           1   \n",
       "1    4    2  8118    1   36  2890    2   35  4777    3  ...           2   \n",
       "2    3    7  5784    1   33  4373    4   41  3242    1  ...           2   \n",
       "3    2   23  5081    3   11  6837    2   37  5521    1  ...           2   \n",
       "4    2   36  3215    2   13  7731    3    5  4156    4  ...           2   \n",
       "\n",
       "   uniquenetworklocation  hand  religion  orientation  race  voted  married  \\\n",
       "0                      1     1        12            1    10      2        1   \n",
       "1                      1     2         7            0    70      2        1   \n",
       "2                      1     1         4            3    60      1        1   \n",
       "3                      1     2         4            5    70      2        1   \n",
       "4                      2     3        10            1    10      2        1   \n",
       "\n",
       "   familysize       major  \n",
       "0           2         NaN  \n",
       "1           4         NaN  \n",
       "2           3         NaN  \n",
       "3           5     biology  \n",
       "4           4  Psychology  \n",
       "\n",
       "[5 rows x 172 columns]"
      ]
     },
     "execution_count": 2,
     "metadata": {},
     "output_type": "execute_result"
    }
   ],
   "source": [
    "df = pd.read_csv('data.csv', sep = '\\t')\n",
    "df.head()"
   ]
  },
  {
   "cell_type": "code",
   "execution_count": 3,
   "metadata": {},
   "outputs": [
    {
     "data": {
      "text/plain": [
       "(39775, 172)"
      ]
     },
     "execution_count": 3,
     "metadata": {},
     "output_type": "execute_result"
    }
   ],
   "source": [
    "df.shape"
   ]
  },
  {
   "cell_type": "code",
   "execution_count": 4,
   "metadata": {},
   "outputs": [
    {
     "data": {
      "text/plain": [
       "Index(['Q1A', 'Q1I', 'Q1E', 'Q2A', 'Q2I', 'Q2E', 'Q3A', 'Q3I', 'Q3E', 'Q4A',\n",
       "       ...\n",
       "       'screensize', 'uniquenetworklocation', 'hand', 'religion',\n",
       "       'orientation', 'race', 'voted', 'married', 'familysize', 'major'],\n",
       "      dtype='object', length=172)"
      ]
     },
     "execution_count": 4,
     "metadata": {},
     "output_type": "execute_result"
    }
   ],
   "source": [
    "df.columns"
   ]
  },
  {
   "cell_type": "code",
   "execution_count": 5,
   "metadata": {},
   "outputs": [
    {
     "data": {
      "text/html": [
       "<div>\n",
       "<style scoped>\n",
       "    .dataframe tbody tr th:only-of-type {\n",
       "        vertical-align: middle;\n",
       "    }\n",
       "\n",
       "    .dataframe tbody tr th {\n",
       "        vertical-align: top;\n",
       "    }\n",
       "\n",
       "    .dataframe thead th {\n",
       "        text-align: right;\n",
       "    }\n",
       "</style>\n",
       "<table border=\"1\" class=\"dataframe\">\n",
       "  <thead>\n",
       "    <tr style=\"text-align: right;\">\n",
       "      <th></th>\n",
       "      <th>Q1A</th>\n",
       "      <th>Q1I</th>\n",
       "      <th>Q1E</th>\n",
       "      <th>Q2A</th>\n",
       "      <th>Q2I</th>\n",
       "      <th>Q2E</th>\n",
       "      <th>Q3A</th>\n",
       "      <th>Q3I</th>\n",
       "      <th>Q3E</th>\n",
       "      <th>Q4A</th>\n",
       "      <th>...</th>\n",
       "      <th>age</th>\n",
       "      <th>screensize</th>\n",
       "      <th>uniquenetworklocation</th>\n",
       "      <th>hand</th>\n",
       "      <th>religion</th>\n",
       "      <th>orientation</th>\n",
       "      <th>race</th>\n",
       "      <th>voted</th>\n",
       "      <th>married</th>\n",
       "      <th>familysize</th>\n",
       "    </tr>\n",
       "  </thead>\n",
       "  <tbody>\n",
       "    <tr>\n",
       "      <th>count</th>\n",
       "      <td>39775.000000</td>\n",
       "      <td>39775.000000</td>\n",
       "      <td>3.977500e+04</td>\n",
       "      <td>39775.000000</td>\n",
       "      <td>39775.000000</td>\n",
       "      <td>3.977500e+04</td>\n",
       "      <td>39775.000000</td>\n",
       "      <td>39775.000000</td>\n",
       "      <td>3.977500e+04</td>\n",
       "      <td>39775.000000</td>\n",
       "      <td>...</td>\n",
       "      <td>39775.000000</td>\n",
       "      <td>39775.000000</td>\n",
       "      <td>39775.000000</td>\n",
       "      <td>39775.00000</td>\n",
       "      <td>39775.000000</td>\n",
       "      <td>39775.000000</td>\n",
       "      <td>39775.000000</td>\n",
       "      <td>39775.000000</td>\n",
       "      <td>39775.000000</td>\n",
       "      <td>39775.000000</td>\n",
       "    </tr>\n",
       "    <tr>\n",
       "      <th>mean</th>\n",
       "      <td>2.619485</td>\n",
       "      <td>21.555977</td>\n",
       "      <td>6.970591e+03</td>\n",
       "      <td>2.172269</td>\n",
       "      <td>21.248070</td>\n",
       "      <td>5.332376e+03</td>\n",
       "      <td>2.226097</td>\n",
       "      <td>21.583004</td>\n",
       "      <td>7.426446e+03</td>\n",
       "      <td>1.950170</td>\n",
       "      <td>...</td>\n",
       "      <td>23.612168</td>\n",
       "      <td>1.274519</td>\n",
       "      <td>1.200025</td>\n",
       "      <td>1.13516</td>\n",
       "      <td>7.555852</td>\n",
       "      <td>1.642992</td>\n",
       "      <td>31.312885</td>\n",
       "      <td>1.705795</td>\n",
       "      <td>1.159547</td>\n",
       "      <td>3.510270</td>\n",
       "    </tr>\n",
       "    <tr>\n",
       "      <th>std</th>\n",
       "      <td>1.032117</td>\n",
       "      <td>12.133621</td>\n",
       "      <td>8.670513e+04</td>\n",
       "      <td>1.111563</td>\n",
       "      <td>12.125288</td>\n",
       "      <td>2.651361e+04</td>\n",
       "      <td>1.038526</td>\n",
       "      <td>12.115637</td>\n",
       "      <td>1.587024e+05</td>\n",
       "      <td>1.042218</td>\n",
       "      <td>...</td>\n",
       "      <td>21.581722</td>\n",
       "      <td>0.446277</td>\n",
       "      <td>0.400024</td>\n",
       "      <td>0.40030</td>\n",
       "      <td>3.554395</td>\n",
       "      <td>1.351362</td>\n",
       "      <td>25.871272</td>\n",
       "      <td>0.473388</td>\n",
       "      <td>0.445882</td>\n",
       "      <td>2.141518</td>\n",
       "    </tr>\n",
       "    <tr>\n",
       "      <th>min</th>\n",
       "      <td>1.000000</td>\n",
       "      <td>1.000000</td>\n",
       "      <td>1.800000e+02</td>\n",
       "      <td>1.000000</td>\n",
       "      <td>1.000000</td>\n",
       "      <td>1.760000e+02</td>\n",
       "      <td>1.000000</td>\n",
       "      <td>1.000000</td>\n",
       "      <td>-1.081400e+04</td>\n",
       "      <td>1.000000</td>\n",
       "      <td>...</td>\n",
       "      <td>13.000000</td>\n",
       "      <td>1.000000</td>\n",
       "      <td>1.000000</td>\n",
       "      <td>0.00000</td>\n",
       "      <td>0.000000</td>\n",
       "      <td>0.000000</td>\n",
       "      <td>10.000000</td>\n",
       "      <td>0.000000</td>\n",
       "      <td>0.000000</td>\n",
       "      <td>0.000000</td>\n",
       "    </tr>\n",
       "    <tr>\n",
       "      <th>25%</th>\n",
       "      <td>2.000000</td>\n",
       "      <td>11.000000</td>\n",
       "      <td>2.664000e+03</td>\n",
       "      <td>1.000000</td>\n",
       "      <td>11.000000</td>\n",
       "      <td>2.477000e+03</td>\n",
       "      <td>1.000000</td>\n",
       "      <td>11.000000</td>\n",
       "      <td>2.857000e+03</td>\n",
       "      <td>1.000000</td>\n",
       "      <td>...</td>\n",
       "      <td>18.000000</td>\n",
       "      <td>1.000000</td>\n",
       "      <td>1.000000</td>\n",
       "      <td>1.00000</td>\n",
       "      <td>4.000000</td>\n",
       "      <td>1.000000</td>\n",
       "      <td>10.000000</td>\n",
       "      <td>1.000000</td>\n",
       "      <td>1.000000</td>\n",
       "      <td>2.000000</td>\n",
       "    </tr>\n",
       "    <tr>\n",
       "      <th>50%</th>\n",
       "      <td>3.000000</td>\n",
       "      <td>22.000000</td>\n",
       "      <td>3.609000e+03</td>\n",
       "      <td>2.000000</td>\n",
       "      <td>21.000000</td>\n",
       "      <td>3.511000e+03</td>\n",
       "      <td>2.000000</td>\n",
       "      <td>22.000000</td>\n",
       "      <td>3.898000e+03</td>\n",
       "      <td>2.000000</td>\n",
       "      <td>...</td>\n",
       "      <td>21.000000</td>\n",
       "      <td>1.000000</td>\n",
       "      <td>1.000000</td>\n",
       "      <td>1.00000</td>\n",
       "      <td>10.000000</td>\n",
       "      <td>1.000000</td>\n",
       "      <td>10.000000</td>\n",
       "      <td>2.000000</td>\n",
       "      <td>1.000000</td>\n",
       "      <td>3.000000</td>\n",
       "    </tr>\n",
       "    <tr>\n",
       "      <th>75%</th>\n",
       "      <td>4.000000</td>\n",
       "      <td>32.000000</td>\n",
       "      <td>5.358000e+03</td>\n",
       "      <td>3.000000</td>\n",
       "      <td>32.000000</td>\n",
       "      <td>5.216000e+03</td>\n",
       "      <td>3.000000</td>\n",
       "      <td>32.000000</td>\n",
       "      <td>5.766000e+03</td>\n",
       "      <td>3.000000</td>\n",
       "      <td>...</td>\n",
       "      <td>25.000000</td>\n",
       "      <td>2.000000</td>\n",
       "      <td>1.000000</td>\n",
       "      <td>1.00000</td>\n",
       "      <td>10.000000</td>\n",
       "      <td>2.000000</td>\n",
       "      <td>60.000000</td>\n",
       "      <td>2.000000</td>\n",
       "      <td>1.000000</td>\n",
       "      <td>4.000000</td>\n",
       "    </tr>\n",
       "    <tr>\n",
       "      <th>max</th>\n",
       "      <td>4.000000</td>\n",
       "      <td>42.000000</td>\n",
       "      <td>1.210228e+07</td>\n",
       "      <td>4.000000</td>\n",
       "      <td>42.000000</td>\n",
       "      <td>2.161057e+06</td>\n",
       "      <td>4.000000</td>\n",
       "      <td>42.000000</td>\n",
       "      <td>2.858269e+07</td>\n",
       "      <td>4.000000</td>\n",
       "      <td>...</td>\n",
       "      <td>1998.000000</td>\n",
       "      <td>2.000000</td>\n",
       "      <td>2.000000</td>\n",
       "      <td>3.00000</td>\n",
       "      <td>12.000000</td>\n",
       "      <td>5.000000</td>\n",
       "      <td>70.000000</td>\n",
       "      <td>2.000000</td>\n",
       "      <td>3.000000</td>\n",
       "      <td>133.000000</td>\n",
       "    </tr>\n",
       "  </tbody>\n",
       "</table>\n",
       "<p>8 rows × 170 columns</p>\n",
       "</div>"
      ],
      "text/plain": [
       "                Q1A           Q1I           Q1E           Q2A           Q2I  \\\n",
       "count  39775.000000  39775.000000  3.977500e+04  39775.000000  39775.000000   \n",
       "mean       2.619485     21.555977  6.970591e+03      2.172269     21.248070   \n",
       "std        1.032117     12.133621  8.670513e+04      1.111563     12.125288   \n",
       "min        1.000000      1.000000  1.800000e+02      1.000000      1.000000   \n",
       "25%        2.000000     11.000000  2.664000e+03      1.000000     11.000000   \n",
       "50%        3.000000     22.000000  3.609000e+03      2.000000     21.000000   \n",
       "75%        4.000000     32.000000  5.358000e+03      3.000000     32.000000   \n",
       "max        4.000000     42.000000  1.210228e+07      4.000000     42.000000   \n",
       "\n",
       "                Q2E           Q3A           Q3I           Q3E           Q4A  \\\n",
       "count  3.977500e+04  39775.000000  39775.000000  3.977500e+04  39775.000000   \n",
       "mean   5.332376e+03      2.226097     21.583004  7.426446e+03      1.950170   \n",
       "std    2.651361e+04      1.038526     12.115637  1.587024e+05      1.042218   \n",
       "min    1.760000e+02      1.000000      1.000000 -1.081400e+04      1.000000   \n",
       "25%    2.477000e+03      1.000000     11.000000  2.857000e+03      1.000000   \n",
       "50%    3.511000e+03      2.000000     22.000000  3.898000e+03      2.000000   \n",
       "75%    5.216000e+03      3.000000     32.000000  5.766000e+03      3.000000   \n",
       "max    2.161057e+06      4.000000     42.000000  2.858269e+07      4.000000   \n",
       "\n",
       "       ...           age    screensize  uniquenetworklocation         hand  \\\n",
       "count  ...  39775.000000  39775.000000           39775.000000  39775.00000   \n",
       "mean   ...     23.612168      1.274519               1.200025      1.13516   \n",
       "std    ...     21.581722      0.446277               0.400024      0.40030   \n",
       "min    ...     13.000000      1.000000               1.000000      0.00000   \n",
       "25%    ...     18.000000      1.000000               1.000000      1.00000   \n",
       "50%    ...     21.000000      1.000000               1.000000      1.00000   \n",
       "75%    ...     25.000000      2.000000               1.000000      1.00000   \n",
       "max    ...   1998.000000      2.000000               2.000000      3.00000   \n",
       "\n",
       "           religion   orientation          race         voted       married  \\\n",
       "count  39775.000000  39775.000000  39775.000000  39775.000000  39775.000000   \n",
       "mean       7.555852      1.642992     31.312885      1.705795      1.159547   \n",
       "std        3.554395      1.351362     25.871272      0.473388      0.445882   \n",
       "min        0.000000      0.000000     10.000000      0.000000      0.000000   \n",
       "25%        4.000000      1.000000     10.000000      1.000000      1.000000   \n",
       "50%       10.000000      1.000000     10.000000      2.000000      1.000000   \n",
       "75%       10.000000      2.000000     60.000000      2.000000      1.000000   \n",
       "max       12.000000      5.000000     70.000000      2.000000      3.000000   \n",
       "\n",
       "         familysize  \n",
       "count  39775.000000  \n",
       "mean       3.510270  \n",
       "std        2.141518  \n",
       "min        0.000000  \n",
       "25%        2.000000  \n",
       "50%        3.000000  \n",
       "75%        4.000000  \n",
       "max      133.000000  \n",
       "\n",
       "[8 rows x 170 columns]"
      ]
     },
     "execution_count": 5,
     "metadata": {},
     "output_type": "execute_result"
    }
   ],
   "source": [
    "df.describe()"
   ]
  },
  {
   "cell_type": "code",
   "execution_count": 6,
   "metadata": {},
   "outputs": [],
   "source": [
    "def column_fixer(name_arr):\n",
    "    new_names = []\n",
    "    for name in name_arr:\n",
    "        if 'I' in name and 'Q' in name:\n",
    "            name = name.split('I')[0] + 'Position'\n",
    "            new_names.append(name)\n",
    "        elif 'E' in name and 'Q' in name:\n",
    "            name = name.split('E')[0] + 'Time'\n",
    "            new_names.append(name)\n",
    "        else:\n",
    "            new_names.append(name)\n",
    "    return new_names\n",
    "\n",
    "df.columns = column_fixer(list(df.columns))"
   ]
  },
  {
   "cell_type": "code",
   "execution_count": 7,
   "metadata": {},
   "outputs": [],
   "source": [
    "def pos(columns):\n",
    "    for col in columns:\n",
    "        if 'Q' and'Time' in col:\n",
    "            df[col] = df[col]/1000\n",
    "            df.drop(df[df[col] > 200].index, inplace = True)\n",
    "pos(list(df.columns))"
   ]
  },
  {
   "cell_type": "code",
   "execution_count": 8,
   "metadata": {},
   "outputs": [
    {
     "data": {
      "text/plain": [
       "2    29221\n",
       "1     8452\n",
       "3      536\n",
       "0       66\n",
       "Name: gender, dtype: int64"
      ]
     },
     "execution_count": 8,
     "metadata": {},
     "output_type": "execute_result"
    }
   ],
   "source": [
    "df['gender'].value_counts()"
   ]
  },
  {
   "cell_type": "markdown",
   "metadata": {},
   "source": [
    "# Demographics"
   ]
  },
  {
   "cell_type": "markdown",
   "metadata": {},
   "source": [
    "First lets take a look at the gender of everyone who took the survey."
   ]
  },
  {
   "cell_type": "code",
   "execution_count": 9,
   "metadata": {},
   "outputs": [
    {
     "data": {
      "text/plain": [
       "<AxesSubplot:xlabel='gender_named', ylabel='count'>"
      ]
     },
     "execution_count": 9,
     "metadata": {},
     "output_type": "execute_result"
    },
    {
     "data": {
      "image/png": "[encoded data removed]",
      "text/plain": [
       "<Figure size 1000x700 with 1 Axes>"
      ]
     },
     "metadata": {
      "needs_background": "light"
     },
     "output_type": "display_data"
    }
   ],
   "source": [
    "df['gender_named'] = df['gender'].map({0 : 'Undefined', 1 : 'Male', 2 : 'Female', 3 : 'Other'})\n",
    "df_gen = pd.DataFrame(data = df['gender_named'], columns = ['gender_named'])\n",
    "plt.figure(figsize = (10, 7), dpi = 100)\n",
    "sns.countplot(data = df_gen, x = 'gender_named')"
   ]
  },
  {
   "cell_type": "markdown",
   "metadata": {},
   "source": [
    "So the survey is overwhelmingly taken by females compared to any other gender, the next highest gender of males doesn't even come halfway.\n",
    "\n",
    "Lets now add age into the mix and see how that affects the data."
   ]
  },
  {
   "cell_type": "markdown",
   "metadata": {},
   "source": [
    "Alright so something to note and also forgot to take into consideration is that people can lie on these types of surveys. For example the max age in the dataset is 1,998 which is of course impossible. To counter this, I will set the max age to be 110 years old and the min age to be 5 years old"
   ]
  },
  {
   "cell_type": "code",
   "execution_count": 10,
   "metadata": {},
   "outputs": [
    {
     "data": {
      "text/plain": [
       "<AxesSubplot:xlabel='age', ylabel='count'>"
      ]
     },
     "execution_count": 10,
     "metadata": {},
     "output_type": "execute_result"
    },
    {
     "data": {
      "image/png": "[encoded data removed]",
      "text/plain": [
       "<Figure size 3000x1050 with 1 Axes>"
      ]
     },
     "metadata": {
      "needs_background": "light"
     },
     "output_type": "display_data"
    }
   ],
   "source": [
    "df = df[(df['age'] <= 110) & (df['age'] > 5)][df.columns]\n",
    "df_age = df[['age', 'gender']]\n",
    "plt.figure(figsize = (20, 7), dpi = 150)\n",
    "sns.countplot(data = df_age, x = 'age', hue = 'gender')"
   ]
  },
  {
   "cell_type": "markdown",
   "metadata": {},
   "source": [
    "The data is heavily skewed to the right which makes sense considering most people who take the survey will most likely be around a younger age. We can see that most people were around 20 years old with females being the bigger category for almost every age."
   ]
  },
  {
   "cell_type": "markdown",
   "metadata": {},
   "source": [
    "Let's see how educated people are in the survey based on their race and family size. We can also look at how educated people are based on their dominant hand since they say people who are left handed tend to be smarter. "
   ]
  },
  {
   "cell_type": "code",
   "execution_count": 11,
   "metadata": {},
   "outputs": [],
   "source": [
    "df_ed = df[['education', 'race', 'familysize', 'hand']]\n",
    "df_ed['race'] = df_ed['race'].map({10 : 'Asian', 20 : 'Arab', 30 : 'Black', 40 : 'Indigenous Australian', 50 : 'Native American', 60 : 'White', 70 : 'Other'})\n",
    "df_ed['familysize'] = df_ed[df_ed['familysize'] < 10]['familysize']\n",
    "df_ed['education'] = df_ed['education'].map({1 : 'Less than high school', 2 : 'High school', 3 : 'University degree', 4 : 'Graduate degree'})"
   ]
  },
  {
   "cell_type": "code",
   "execution_count": 12,
   "metadata": {},
   "outputs": [
    {
     "data": {
      "text/plain": [
       "<AxesSubplot:xlabel='race', ylabel='Percentage educated (each race adds up to 100%)'>"
      ]
     },
     "execution_count": 12,
     "metadata": {},
     "output_type": "execute_result"
    },
    {
     "data": {
      "image/png": "[encoded data removed]",
      "text/plain": [
       "<Figure size 1400x700 with 1 Axes>"
      ]
     },
     "metadata": {
      "needs_background": "light"
     },
     "output_type": "display_data"
    }
   ],
   "source": [
    "df_race = pd.DataFrame(df_ed.groupby(['race', 'education'])['education'].count()/df_ed.groupby('race')['education'].count()*100)\n",
    "df_race = df_race.rename(columns = {'education' : 'Percentage educated (each race adds up to 100%)'})\n",
    "df_race = df_race.reset_index()\n",
    "plt.figure(figsize = (14, 7), dpi = 100)\n",
    "sns.barplot(data = df_race, x = 'race', y = 'Percentage educated (each race adds up to 100%)', hue = 'education', hue_order=['Less than high school', 'High school', 'University degree', 'Graduate degree'], palette = 'prism')"
   ]
  },
  {
   "cell_type": "markdown",
   "metadata": {},
   "source": [
    "So looking at this data we can gather a lot about the education of each person based on their race. It seems that most races were currently in highschool at the time of the interview or their max education was highschool. \n",
    "\n",
    "Asians and Arabs stand out a bit because most people actually had an education of at least a university degree.\n",
    "\n",
    "Native Americans seem to have a very large percentage of the population who have not even obtained a high school degree which is a bit worrying. White and black people seem to be experiencing the same thing with around 20% of the population not even obtaining a high school degree (again this could be because they haven't graduated yet remember that most people that took this survey were on the younger side)\n",
    "\n",
    "We do need to becareful when considering the data however because while asians had about 22,808 participants in the survey, indigenous Australians only had 22 meaning we can't exactly make reliable predictions."
   ]
  },
  {
   "cell_type": "code",
   "execution_count": 13,
   "metadata": {},
   "outputs": [
    {
     "data": {
      "text/plain": [
       "race\n",
       "Arab                       311\n",
       "Asian                    21912\n",
       "Black                      574\n",
       "Indigenous Australian       22\n",
       "Native American            210\n",
       "Other                     4563\n",
       "White                    10179\n",
       "Name: education, dtype: int64"
      ]
     },
     "execution_count": 13,
     "metadata": {},
     "output_type": "execute_result"
    }
   ],
   "source": [
    "df_ed.groupby('race')['education'].count()"
   ]
  },
  {
   "cell_type": "code",
   "execution_count": 14,
   "metadata": {},
   "outputs": [
    {
     "data": {
      "text/plain": [
       "<matplotlib.legend.Legend at 0x22fddd460d0>"
      ]
     },
     "execution_count": 14,
     "metadata": {},
     "output_type": "execute_result"
    },
    {
     "data": {
      "image/png": "[encoded data removed]",
      "text/plain": [
       "<Figure size 1500x1050 with 1 Axes>"
      ]
     },
     "metadata": {
      "needs_background": "light"
     },
     "output_type": "display_data"
    }
   ],
   "source": [
    "df_ed['familysize'] = df_ed['familysize'].astype(str).apply(lambda x: x.replace('.0',''))\n",
    "plt.figure(figsize = (10, 7), dpi = 150)\n",
    "sns.countplot(data = df_ed, x = 'familysize', hue = 'education', order = ['0', '1', '2', '3', '4', '5', '6', '7', '8', '9'])\n",
    "plt.legend(loc = 'upper right')"
   ]
  },
  {
   "cell_type": "markdown",
   "metadata": {},
   "source": [
    "Interestingly enough, it seems that families with more children tend to have university degrees while families with less children have mostly only graduated high school.\n",
    "\n",
    "Now, people could easily be lying about the amount of people in their family or their degree which is fairly common. Also, it could be that most of the people with a small family size who are doing the survey have just graduated high school."
   ]
  },
  {
   "cell_type": "code",
   "execution_count": 15,
   "metadata": {},
   "outputs": [
    {
     "data": {
      "text/plain": [
       "Index(['education', 'race', 'familysize', 'hand'], dtype='object')"
      ]
     },
     "execution_count": 15,
     "metadata": {},
     "output_type": "execute_result"
    }
   ],
   "source": [
    "df_ed.columns"
   ]
  },
  {
   "cell_type": "code",
   "execution_count": 16,
   "metadata": {},
   "outputs": [],
   "source": [
    "df_ed = df_ed.drop(df_ed[df_ed['hand'] == 0].index)\n",
    "df_ed['hand'] = df_ed['hand'].map({1 : 'Right handed', 2 : 'Left handed', 3 : 'Ambidextrous'})\n",
    "handed = pd.DataFrame(df_ed.groupby(['education', 'hand'])['hand'].count())\n",
    "handed.columns = ['Total Percentage of Handed People (Each hand adds up to 1)']\n",
    "handed = handed.reset_index()\n",
    "def hands(hand, value):\n",
    "    if(hand == 'Ambidextrous'):\n",
    "        return value/handed[handed['hand'] == 'Ambidextrous']['Total Percentage of Handed People (Each hand adds up to 1)'].sum()\n",
    "    elif(hand == 'Left handed'):\n",
    "        return value/handed[handed['hand'] == 'Left handed']['Total Percentage of Handed People (Each hand adds up to 1)'].sum()\n",
    "    else:\n",
    "        return value/handed[handed['hand'] == 'Right handed']['Total Percentage of Handed People (Each hand adds up to 1)'].sum()\n",
    "\n",
    "handed['Total Percentage of Handed People (Each hand adds up to 1)'] = np.vectorize(hands)(handed['hand'], handed['Total Percentage of Handed People (Each hand adds up to 1)'])"
   ]
  },
  {
   "cell_type": "code",
   "execution_count": 17,
   "metadata": {},
   "outputs": [
    {
     "data": {
      "text/plain": [
       "<matplotlib.legend.Legend at 0x22fddb8af40>"
      ]
     },
     "execution_count": 17,
     "metadata": {},
     "output_type": "execute_result"
    },
    {
     "data": {
      "image/png": "[encoded data removed]",
      "text/plain": [
       "<Figure size 1200x840 with 1 Axes>"
      ]
     },
     "metadata": {
      "needs_background": "light"
     },
     "output_type": "display_data"
    }
   ],
   "source": [
    "plt.figure(figsize = (10, 7), dpi = 120)\n",
    "sns.barplot(data = handed, x = 'hand', y = 'Total Percentage of Handed People (Each hand adds up to 1)', hue = 'education', palette = 'PRGn_r', hue_order=['Less than high school', 'High school', 'University degree', 'Graduate degree'], order = ['Left handed', 'Right handed', 'Ambidextrous'])\n",
    "plt.legend(bbox_to_anchor = (1, 1))"
   ]
  },
  {
   "cell_type": "code",
   "execution_count": 18,
   "metadata": {},
   "outputs": [
    {
     "data": {
      "text/plain": [
       "Right handed    33424\n",
       "Left handed      4009\n",
       "Ambidextrous      671\n",
       "Name: hand, dtype: int64"
      ]
     },
     "execution_count": 18,
     "metadata": {},
     "output_type": "execute_result"
    }
   ],
   "source": [
    "df_ed['hand'].value_counts()"
   ]
  },
  {
   "cell_type": "markdown",
   "metadata": {},
   "source": [
    "So it seems like people who are left handed are actually a bit less educated than those who are right handed. Ambidextrous seems to have been hit the hardest with almost an equal amount of people who haven't graduated high school and those who have a university degree. Then again, we don't have nearly as many people who are ambidextrious compared to those who are left handed or right handed."
   ]
  },
  {
   "cell_type": "markdown",
   "metadata": {},
   "source": [
    "Alright now lets move on to some more interesting questions, first let's take a look at if we can determine someone's answers to the questions based on their outside experiences and the time it took for them to answer the question"
   ]
  },
  {
   "cell_type": "code",
   "execution_count": 19,
   "metadata": {},
   "outputs": [],
   "source": [
    "df_pred = df.copy()\n",
    "def reaction(col):\n",
    "    for pos in col:\n",
    "        if 'Q' and 'A' in pos:\n",
    "            df_pred[pos] = df[pos].map({1 : 'Did not apply to me at all', 2 : 'Some of the time', 3 : 'Good part of the time', 4 : 'Most of the time'})\n",
    "reaction(list(df_pred.columns))\n"
   ]
  },
  {
   "cell_type": "code",
   "execution_count": 20,
   "metadata": {},
   "outputs": [
    {
     "data": {
      "image/png": "[encoded data removed]",
      "text/plain": [
       "<Figure size 1200x800 with 1 Axes>"
      ]
     },
     "metadata": {
      "needs_background": "light"
     },
     "output_type": "display_data"
    }
   ],
   "source": [
    "plt.figure(figsize = (12, 8), dpi = 100)\n",
    "sns.boxplot(data = df_pred, x = 'Q1A', y = 'Q1Time', order = ['Did not apply to me at all', 'Some of the time', 'Good part of the time', 'Most of the time'])\n",
    "plt.xlabel(xlabel = 'I found myself getting upset by quite trivial things', weight = 'bold');\n",
    "plt.title(label = 'I found myself getting upset by quite trivial things', weight = 'bold');"
   ]
  },
  {
   "cell_type": "markdown",
   "metadata": {},
   "source": [
    "Okay so it seems that based on this graph we can't really determine what the answer to someone's question is going to be with the amount of time they took to answer the question.\n",
    "\n",
    "Let me try something here, what if I make a machine learning model that is dedicated to trying to answer the first question based on the time it took to answer the question and the position of the question."
   ]
  },
  {
   "cell_type": "code",
   "execution_count": 21,
   "metadata": {},
   "outputs": [
    {
     "data": {
      "text/html": [
       "<div>\n",
       "<style scoped>\n",
       "    .dataframe tbody tr th:only-of-type {\n",
       "        vertical-align: middle;\n",
       "    }\n",
       "\n",
       "    .dataframe tbody tr th {\n",
       "        vertical-align: top;\n",
       "    }\n",
       "\n",
       "    .dataframe thead th {\n",
       "        text-align: right;\n",
       "    }\n",
       "</style>\n",
       "<table border=\"1\" class=\"dataframe\">\n",
       "  <thead>\n",
       "    <tr style=\"text-align: right;\">\n",
       "      <th></th>\n",
       "      <th>Q1A</th>\n",
       "      <th>Q1Position</th>\n",
       "      <th>Q1Time</th>\n",
       "      <th>Q2A</th>\n",
       "      <th>Q2Position</th>\n",
       "      <th>Q2Time</th>\n",
       "      <th>Q3A</th>\n",
       "      <th>Q3Position</th>\n",
       "      <th>Q3Time</th>\n",
       "      <th>Q4A</th>\n",
       "      <th>...</th>\n",
       "      <th>uniquenetworklocation</th>\n",
       "      <th>hand</th>\n",
       "      <th>religion</th>\n",
       "      <th>orientation</th>\n",
       "      <th>race</th>\n",
       "      <th>voted</th>\n",
       "      <th>married</th>\n",
       "      <th>familysize</th>\n",
       "      <th>major</th>\n",
       "      <th>gender_named</th>\n",
       "    </tr>\n",
       "  </thead>\n",
       "  <tbody>\n",
       "    <tr>\n",
       "      <th>0</th>\n",
       "      <td>4</td>\n",
       "      <td>28</td>\n",
       "      <td>3.890</td>\n",
       "      <td>4</td>\n",
       "      <td>25</td>\n",
       "      <td>2.122</td>\n",
       "      <td>2</td>\n",
       "      <td>16</td>\n",
       "      <td>1.944</td>\n",
       "      <td>4</td>\n",
       "      <td>...</td>\n",
       "      <td>1</td>\n",
       "      <td>1</td>\n",
       "      <td>12</td>\n",
       "      <td>1</td>\n",
       "      <td>10</td>\n",
       "      <td>2</td>\n",
       "      <td>1</td>\n",
       "      <td>2</td>\n",
       "      <td>NaN</td>\n",
       "      <td>Female</td>\n",
       "    </tr>\n",
       "    <tr>\n",
       "      <th>1</th>\n",
       "      <td>4</td>\n",
       "      <td>2</td>\n",
       "      <td>8.118</td>\n",
       "      <td>1</td>\n",
       "      <td>36</td>\n",
       "      <td>2.890</td>\n",
       "      <td>2</td>\n",
       "      <td>35</td>\n",
       "      <td>4.777</td>\n",
       "      <td>3</td>\n",
       "      <td>...</td>\n",
       "      <td>1</td>\n",
       "      <td>2</td>\n",
       "      <td>7</td>\n",
       "      <td>0</td>\n",
       "      <td>70</td>\n",
       "      <td>2</td>\n",
       "      <td>1</td>\n",
       "      <td>4</td>\n",
       "      <td>NaN</td>\n",
       "      <td>Female</td>\n",
       "    </tr>\n",
       "    <tr>\n",
       "      <th>2</th>\n",
       "      <td>3</td>\n",
       "      <td>7</td>\n",
       "      <td>5.784</td>\n",
       "      <td>1</td>\n",
       "      <td>33</td>\n",
       "      <td>4.373</td>\n",
       "      <td>4</td>\n",
       "      <td>41</td>\n",
       "      <td>3.242</td>\n",
       "      <td>1</td>\n",
       "      <td>...</td>\n",
       "      <td>1</td>\n",
       "      <td>1</td>\n",
       "      <td>4</td>\n",
       "      <td>3</td>\n",
       "      <td>60</td>\n",
       "      <td>1</td>\n",
       "      <td>1</td>\n",
       "      <td>3</td>\n",
       "      <td>NaN</td>\n",
       "      <td>Female</td>\n",
       "    </tr>\n",
       "    <tr>\n",
       "      <th>3</th>\n",
       "      <td>2</td>\n",
       "      <td>23</td>\n",
       "      <td>5.081</td>\n",
       "      <td>3</td>\n",
       "      <td>11</td>\n",
       "      <td>6.837</td>\n",
       "      <td>2</td>\n",
       "      <td>37</td>\n",
       "      <td>5.521</td>\n",
       "      <td>1</td>\n",
       "      <td>...</td>\n",
       "      <td>1</td>\n",
       "      <td>2</td>\n",
       "      <td>4</td>\n",
       "      <td>5</td>\n",
       "      <td>70</td>\n",
       "      <td>2</td>\n",
       "      <td>1</td>\n",
       "      <td>5</td>\n",
       "      <td>biology</td>\n",
       "      <td>Female</td>\n",
       "    </tr>\n",
       "    <tr>\n",
       "      <th>4</th>\n",
       "      <td>2</td>\n",
       "      <td>36</td>\n",
       "      <td>3.215</td>\n",
       "      <td>2</td>\n",
       "      <td>13</td>\n",
       "      <td>7.731</td>\n",
       "      <td>3</td>\n",
       "      <td>5</td>\n",
       "      <td>4.156</td>\n",
       "      <td>4</td>\n",
       "      <td>...</td>\n",
       "      <td>2</td>\n",
       "      <td>3</td>\n",
       "      <td>10</td>\n",
       "      <td>1</td>\n",
       "      <td>10</td>\n",
       "      <td>2</td>\n",
       "      <td>1</td>\n",
       "      <td>4</td>\n",
       "      <td>Psychology</td>\n",
       "      <td>Female</td>\n",
       "    </tr>\n",
       "  </tbody>\n",
       "</table>\n",
       "<p>5 rows × 173 columns</p>\n",
       "</div>"
      ],
      "text/plain": [
       "   Q1A  Q1Position  Q1Time  Q2A  Q2Position  Q2Time  Q3A  Q3Position  Q3Time  \\\n",
       "0    4          28   3.890    4          25   2.122    2          16   1.944   \n",
       "1    4           2   8.118    1          36   2.890    2          35   4.777   \n",
       "2    3           7   5.784    1          33   4.373    4          41   3.242   \n",
       "3    2          23   5.081    3          11   6.837    2          37   5.521   \n",
       "4    2          36   3.215    2          13   7.731    3           5   4.156   \n",
       "\n",
       "   Q4A  ...  uniquenetworklocation  hand  religion  orientation  race  voted  \\\n",
       "0    4  ...                      1     1        12            1    10      2   \n",
       "1    3  ...                      1     2         7            0    70      2   \n",
       "2    1  ...                      1     1         4            3    60      1   \n",
       "3    1  ...                      1     2         4            5    70      2   \n",
       "4    4  ...                      2     3        10            1    10      2   \n",
       "\n",
       "   married  familysize       major  gender_named  \n",
       "0        1           2         NaN        Female  \n",
       "1        1           4         NaN        Female  \n",
       "2        1           3         NaN        Female  \n",
       "3        1           5     biology        Female  \n",
       "4        1           4  Psychology        Female  \n",
       "\n",
       "[5 rows x 173 columns]"
      ]
     },
     "execution_count": 21,
     "metadata": {},
     "output_type": "execute_result"
    }
   ],
   "source": [
    "df.head()"
   ]
  },
  {
   "cell_type": "code",
   "execution_count": 22,
   "metadata": {},
   "outputs": [],
   "source": [
    "from sklearn.ensemble import RandomForestClassifier\n",
    "from sklearn.model_selection import train_test_split\n",
    "rf = RandomForestClassifier(n_estimators=200)\n",
    "X = df[['Q1Position', 'Q1Time']]\n",
    "y = df['Q1A'].map({1 : 'Did not apply to me at all', 2 : 'Some of the time', 3 : 'Good part of the time', 4 : 'Most of the time'})\n",
    "X_train, X_test, y_train, y_test = train_test_split(X, y, test_size=0.23, random_state=42)"
   ]
  },
  {
   "cell_type": "code",
   "execution_count": 23,
   "metadata": {},
   "outputs": [
    {
     "data": {
      "text/plain": [
       "RandomForestClassifier(n_estimators=200)"
      ]
     },
     "execution_count": 23,
     "metadata": {},
     "output_type": "execute_result"
    }
   ],
   "source": [
    "rf.fit(X_train, y_train)"
   ]
  },
  {
   "cell_type": "code",
   "execution_count": 24,
   "metadata": {},
   "outputs": [
    {
     "name": "stdout",
     "output_type": "stream",
     "text": [
      "                            precision    recall  f1-score   support\n",
      "\n",
      "Did not apply to me at all       0.16      0.16      0.16      1310\n",
      "     Good part of the time       0.25      0.24      0.25      2237\n",
      "          Most of the time       0.31      0.32      0.31      2332\n",
      "          Some of the time       0.35      0.36      0.36      2923\n",
      "\n",
      "                  accuracy                           0.29      8802\n",
      "                 macro avg       0.27      0.27      0.27      8802\n",
      "              weighted avg       0.29      0.29      0.29      8802\n",
      "\n"
     ]
    }
   ],
   "source": [
    "from sklearn.metrics import classification_report\n",
    "y_pred = rf.predict(X_test)\n",
    "print(classification_report(y_test, y_pred))"
   ]
  },
  {
   "cell_type": "markdown",
   "metadata": {},
   "source": [
    "Well this model did not do well at all lol, probably a good thing too considering it would be kind of bad if you could predict somebodies answer not by how depressed they are but by the position of the question and how long it took them to answer it"
   ]
  },
  {
   "cell_type": "markdown",
   "metadata": {},
   "source": [
    "I don't think just looking at one question is going to get us our needed result here so instead I'm doing to try something different. Since it seems that there is no target variable, I am going to create one. To do this, I will take the mean average of the answers to all the questions (giving each question equal weight which may induce some bias) and round up or down to give a score from 1 - 4, where 1 is \"test did not apply to me\" and 4 is \"Most of the test did apply to me\"."
   ]
  },
  {
   "cell_type": "code",
   "execution_count": 25,
   "metadata": {},
   "outputs": [],
   "source": [
    "q_cols = []\n",
    "for col in list(df.columns):\n",
    "    if 'Q' and 'A' in col:\n",
    "        q_cols.append(col)\n",
    "\n",
    "\n",
    "df['Score'] = df[q_cols].mean(axis = 1).round().map({1 : 'Did not apply to me at all', 2 : 'Some of the time', 3 : 'Good part of the time', 4 : 'Most of the time'})"
   ]
  },
  {
   "cell_type": "code",
   "execution_count": 26,
   "metadata": {},
   "outputs": [
    {
     "data": {
      "text/html": [
       "<div>\n",
       "<style scoped>\n",
       "    .dataframe tbody tr th:only-of-type {\n",
       "        vertical-align: middle;\n",
       "    }\n",
       "\n",
       "    .dataframe tbody tr th {\n",
       "        vertical-align: top;\n",
       "    }\n",
       "\n",
       "    .dataframe thead th {\n",
       "        text-align: right;\n",
       "    }\n",
       "</style>\n",
       "<table border=\"1\" class=\"dataframe\">\n",
       "  <thead>\n",
       "    <tr style=\"text-align: right;\">\n",
       "      <th></th>\n",
       "      <th>Q1A</th>\n",
       "      <th>Q1Position</th>\n",
       "      <th>Q1Time</th>\n",
       "      <th>Q2A</th>\n",
       "      <th>Q2Position</th>\n",
       "      <th>Q2Time</th>\n",
       "      <th>Q3A</th>\n",
       "      <th>Q3Position</th>\n",
       "      <th>Q3Time</th>\n",
       "      <th>Q4A</th>\n",
       "      <th>...</th>\n",
       "      <th>hand</th>\n",
       "      <th>religion</th>\n",
       "      <th>orientation</th>\n",
       "      <th>race</th>\n",
       "      <th>voted</th>\n",
       "      <th>married</th>\n",
       "      <th>familysize</th>\n",
       "      <th>major</th>\n",
       "      <th>gender_named</th>\n",
       "      <th>Score</th>\n",
       "    </tr>\n",
       "  </thead>\n",
       "  <tbody>\n",
       "    <tr>\n",
       "      <th>0</th>\n",
       "      <td>4</td>\n",
       "      <td>28</td>\n",
       "      <td>3.890</td>\n",
       "      <td>4</td>\n",
       "      <td>25</td>\n",
       "      <td>2.122</td>\n",
       "      <td>2</td>\n",
       "      <td>16</td>\n",
       "      <td>1.944</td>\n",
       "      <td>4</td>\n",
       "      <td>...</td>\n",
       "      <td>1</td>\n",
       "      <td>12</td>\n",
       "      <td>1</td>\n",
       "      <td>10</td>\n",
       "      <td>2</td>\n",
       "      <td>1</td>\n",
       "      <td>2</td>\n",
       "      <td>NaN</td>\n",
       "      <td>Female</td>\n",
       "      <td>Good part of the time</td>\n",
       "    </tr>\n",
       "    <tr>\n",
       "      <th>1</th>\n",
       "      <td>4</td>\n",
       "      <td>2</td>\n",
       "      <td>8.118</td>\n",
       "      <td>1</td>\n",
       "      <td>36</td>\n",
       "      <td>2.890</td>\n",
       "      <td>2</td>\n",
       "      <td>35</td>\n",
       "      <td>4.777</td>\n",
       "      <td>3</td>\n",
       "      <td>...</td>\n",
       "      <td>2</td>\n",
       "      <td>7</td>\n",
       "      <td>0</td>\n",
       "      <td>70</td>\n",
       "      <td>2</td>\n",
       "      <td>1</td>\n",
       "      <td>4</td>\n",
       "      <td>NaN</td>\n",
       "      <td>Female</td>\n",
       "      <td>Good part of the time</td>\n",
       "    </tr>\n",
       "    <tr>\n",
       "      <th>2</th>\n",
       "      <td>3</td>\n",
       "      <td>7</td>\n",
       "      <td>5.784</td>\n",
       "      <td>1</td>\n",
       "      <td>33</td>\n",
       "      <td>4.373</td>\n",
       "      <td>4</td>\n",
       "      <td>41</td>\n",
       "      <td>3.242</td>\n",
       "      <td>1</td>\n",
       "      <td>...</td>\n",
       "      <td>1</td>\n",
       "      <td>4</td>\n",
       "      <td>3</td>\n",
       "      <td>60</td>\n",
       "      <td>1</td>\n",
       "      <td>1</td>\n",
       "      <td>3</td>\n",
       "      <td>NaN</td>\n",
       "      <td>Female</td>\n",
       "      <td>Good part of the time</td>\n",
       "    </tr>\n",
       "    <tr>\n",
       "      <th>3</th>\n",
       "      <td>2</td>\n",
       "      <td>23</td>\n",
       "      <td>5.081</td>\n",
       "      <td>3</td>\n",
       "      <td>11</td>\n",
       "      <td>6.837</td>\n",
       "      <td>2</td>\n",
       "      <td>37</td>\n",
       "      <td>5.521</td>\n",
       "      <td>1</td>\n",
       "      <td>...</td>\n",
       "      <td>2</td>\n",
       "      <td>4</td>\n",
       "      <td>5</td>\n",
       "      <td>70</td>\n",
       "      <td>2</td>\n",
       "      <td>1</td>\n",
       "      <td>5</td>\n",
       "      <td>biology</td>\n",
       "      <td>Female</td>\n",
       "      <td>Some of the time</td>\n",
       "    </tr>\n",
       "    <tr>\n",
       "      <th>4</th>\n",
       "      <td>2</td>\n",
       "      <td>36</td>\n",
       "      <td>3.215</td>\n",
       "      <td>2</td>\n",
       "      <td>13</td>\n",
       "      <td>7.731</td>\n",
       "      <td>3</td>\n",
       "      <td>5</td>\n",
       "      <td>4.156</td>\n",
       "      <td>4</td>\n",
       "      <td>...</td>\n",
       "      <td>3</td>\n",
       "      <td>10</td>\n",
       "      <td>1</td>\n",
       "      <td>10</td>\n",
       "      <td>2</td>\n",
       "      <td>1</td>\n",
       "      <td>4</td>\n",
       "      <td>Psychology</td>\n",
       "      <td>Female</td>\n",
       "      <td>Good part of the time</td>\n",
       "    </tr>\n",
       "  </tbody>\n",
       "</table>\n",
       "<p>5 rows × 174 columns</p>\n",
       "</div>"
      ],
      "text/plain": [
       "   Q1A  Q1Position  Q1Time  Q2A  Q2Position  Q2Time  Q3A  Q3Position  Q3Time  \\\n",
       "0    4          28   3.890    4          25   2.122    2          16   1.944   \n",
       "1    4           2   8.118    1          36   2.890    2          35   4.777   \n",
       "2    3           7   5.784    1          33   4.373    4          41   3.242   \n",
       "3    2          23   5.081    3          11   6.837    2          37   5.521   \n",
       "4    2          36   3.215    2          13   7.731    3           5   4.156   \n",
       "\n",
       "   Q4A  ...  hand  religion  orientation  race  voted  married  familysize  \\\n",
       "0    4  ...     1        12            1    10      2        1           2   \n",
       "1    3  ...     2         7            0    70      2        1           4   \n",
       "2    1  ...     1         4            3    60      1        1           3   \n",
       "3    1  ...     2         4            5    70      2        1           5   \n",
       "4    4  ...     3        10            1    10      2        1           4   \n",
       "\n",
       "        major  gender_named                  Score  \n",
       "0         NaN        Female  Good part of the time  \n",
       "1         NaN        Female  Good part of the time  \n",
       "2         NaN        Female  Good part of the time  \n",
       "3     biology        Female       Some of the time  \n",
       "4  Psychology        Female  Good part of the time  \n",
       "\n",
       "[5 rows x 174 columns]"
      ]
     },
     "execution_count": 26,
     "metadata": {},
     "output_type": "execute_result"
    }
   ],
   "source": [
    "df.head()"
   ]
  },
  {
   "cell_type": "markdown",
   "metadata": {},
   "source": [
    "Now, lets take a look at if there seems to be any correlation between the overall score on the test and how long it took them to answer all the questions"
   ]
  },
  {
   "cell_type": "code",
   "execution_count": 27,
   "metadata": {},
   "outputs": [
    {
     "data": {
      "text/plain": [
       "<AxesSubplot:xlabel='Score', ylabel='testelapse'>"
      ]
     },
     "execution_count": 27,
     "metadata": {},
     "output_type": "execute_result"
    },
    {
     "data": {
      "image/png": "[encoded data removed]",
      "text/plain": [
       "<Figure size 1500x1200 with 1 Axes>"
      ]
     },
     "metadata": {
      "needs_background": "light"
     },
     "output_type": "display_data"
    }
   ],
   "source": [
    "plt.figure(figsize = (10, 8), dpi = 150)\n",
    "df = df.drop(df[df['testelapse'] > df['testelapse'].quantile(0.8)].index)\n",
    "sns.boxplot(data = df, x = 'Score', y = 'testelapse', order = ['Did not apply to me at all', 'Some of the time', 'Good part of the time', 'Most of the time'])"
   ]
  },
  {
   "cell_type": "markdown",
   "metadata": {},
   "source": [
    "So similar to what we saw in the boxplot for Q1, we can't really determine how depressed someone may be based on the amount of time it took them to complete the questionnare"
   ]
  },
  {
   "cell_type": "markdown",
   "metadata": {},
   "source": [
    "Alright now lets take a look at everything other than the questions themselves, can we predict how depressed someone will be by looking at their personaility?"
   ]
  },
  {
   "cell_type": "code",
   "execution_count": 28,
   "metadata": {},
   "outputs": [],
   "source": [
    "v_cols = []\n",
    "for col in list(df.columns):\n",
    "    if 'TIPI' in col:\n",
    "        v_cols.append(col)\n",
    "v_cols.append('Score')\n",
    "#t = df[v_cols].apply(lambda x: np.nan if x == 0 else x)\n",
    "t = df[v_cols].replace(0, np.nan).dropna()\n",
    "X = t.drop('Score', axis = 1)\n",
    "y = t['Score']"
   ]
  },
  {
   "cell_type": "code",
   "execution_count": 29,
   "metadata": {},
   "outputs": [
    {
     "data": {
      "text/plain": [
       "LogisticRegressionCV(l1_ratios=[0, 0.2, 0.5, 0.7, 0.9], max_iter=300,\n",
       "                     multi_class='multinomial', penalty='elasticnet',\n",
       "                     solver='saga')"
      ]
     },
     "execution_count": 29,
     "metadata": {},
     "output_type": "execute_result"
    }
   ],
   "source": [
    "\n",
    "from sklearn.linear_model import LogisticRegressionCV\n",
    "X_train, X_test, y_train, y_test = train_test_split(X, y, test_size=0.25, random_state=42)\n",
    "lg = LogisticRegressionCV(solver = 'saga', penalty='elasticnet', multi_class='multinomial', l1_ratios=[0, 0.2, 0.5, 0.7, 0.9], max_iter = 300)\n",
    "lg.fit(X_train, y_train)"
   ]
  },
  {
   "cell_type": "code",
   "execution_count": 30,
   "metadata": {},
   "outputs": [],
   "source": [
    "y_pred = lg.predict(X_test)"
   ]
  },
  {
   "cell_type": "code",
   "execution_count": 31,
   "metadata": {},
   "outputs": [
    {
     "name": "stdout",
     "output_type": "stream",
     "text": [
      "                            precision    recall  f1-score   support\n",
      "\n",
      "Did not apply to me at all       0.64      0.41      0.50       929\n",
      "     Good part of the time       0.55      0.67      0.60      2706\n",
      "          Most of the time       0.00      0.00      0.00       672\n",
      "          Some of the time       0.57      0.66      0.61      3087\n",
      "\n",
      "                  accuracy                           0.57      7394\n",
      "                 macro avg       0.44      0.43      0.43      7394\n",
      "              weighted avg       0.52      0.57      0.54      7394\n",
      "\n"
     ]
    },
    {
     "name": "stderr",
     "output_type": "stream",
     "text": [
      "C:\\Users\\at488\\AppData\\Local\\Programs\\Python\\Python38\\lib\\site-packages\\sklearn\\metrics\\_classification.py:1245: UndefinedMetricWarning: Precision and F-score are ill-defined and being set to 0.0 in labels with no predicted samples. Use `zero_division` parameter to control this behavior.\n",
      "  _warn_prf(average, modifier, msg_start, len(result))\n",
      "C:\\Users\\at488\\AppData\\Local\\Programs\\Python\\Python38\\lib\\site-packages\\sklearn\\metrics\\_classification.py:1245: UndefinedMetricWarning: Precision and F-score are ill-defined and being set to 0.0 in labels with no predicted samples. Use `zero_division` parameter to control this behavior.\n",
      "  _warn_prf(average, modifier, msg_start, len(result))\n",
      "C:\\Users\\at488\\AppData\\Local\\Programs\\Python\\Python38\\lib\\site-packages\\sklearn\\metrics\\_classification.py:1245: UndefinedMetricWarning: Precision and F-score are ill-defined and being set to 0.0 in labels with no predicted samples. Use `zero_division` parameter to control this behavior.\n",
      "  _warn_prf(average, modifier, msg_start, len(result))\n"
     ]
    }
   ],
   "source": [
    "print(classification_report(y_test, y_pred))"
   ]
  },
  {
   "cell_type": "markdown",
   "metadata": {},
   "source": [
    "So by using Logistic Regression we get an accuracy of 58%, much better than random chance but still not that great. Again, this makes sense because it's not exactly plausible to predict the severity of someone's depression just by looking at their personality, although it is definetely a handy indicator to have."
   ]
  },
  {
   "cell_type": "markdown",
   "metadata": {},
   "source": [
    "Okay so for the last thing I plan on doing, let's combine all of the personality questions along with the vocabulary and general questions to see if we can predict what someone's answer will be for the severity of their depression."
   ]
  },
  {
   "cell_type": "code",
   "execution_count": 32,
   "metadata": {},
   "outputs": [],
   "source": [
    "from sklearn.preprocessing import LabelEncoder\n",
    "df_gen = df[['education', 'urban', 'gender', 'engnat', 'age', 'hand', 'religion', 'orientation', 'race', 'voted', 'married', 'familysize', 'country', 'VCL1', 'VCL2', 'VCL3', 'VCL4', 'VCL5', 'VCL6', 'VCL7', 'VCL8', 'VCL9', 'VCL10', 'VCL11', 'VCL12', 'VCL13', 'VCL14', 'VCL15', 'VCL16', 'testelapse', 'TIPI1', 'TIPI2', 'TIPI3', 'TIPI4', 'TIPI5', 'TIPI6', 'TIPI7', 'TIPI8', 'TIPI9', 'TIPI10', 'Score']]\n",
    "df_gen = df_gen.dropna()\n",
    "lb = LabelEncoder()\n",
    "df_gen['country'] = lb.fit_transform(df_gen['country'])"
   ]
  },
  {
   "cell_type": "code",
   "execution_count": 33,
   "metadata": {},
   "outputs": [
    {
     "data": {
      "text/html": [
       "<div>\n",
       "<style scoped>\n",
       "    .dataframe tbody tr th:only-of-type {\n",
       "        vertical-align: middle;\n",
       "    }\n",
       "\n",
       "    .dataframe tbody tr th {\n",
       "        vertical-align: top;\n",
       "    }\n",
       "\n",
       "    .dataframe thead th {\n",
       "        text-align: right;\n",
       "    }\n",
       "</style>\n",
       "<table border=\"1\" class=\"dataframe\">\n",
       "  <thead>\n",
       "    <tr style=\"text-align: right;\">\n",
       "      <th></th>\n",
       "      <th>education</th>\n",
       "      <th>urban</th>\n",
       "      <th>gender</th>\n",
       "      <th>engnat</th>\n",
       "      <th>age</th>\n",
       "      <th>hand</th>\n",
       "      <th>religion</th>\n",
       "      <th>orientation</th>\n",
       "      <th>race</th>\n",
       "      <th>voted</th>\n",
       "      <th>...</th>\n",
       "      <th>TIPI2</th>\n",
       "      <th>TIPI3</th>\n",
       "      <th>TIPI4</th>\n",
       "      <th>TIPI5</th>\n",
       "      <th>TIPI6</th>\n",
       "      <th>TIPI7</th>\n",
       "      <th>TIPI8</th>\n",
       "      <th>TIPI9</th>\n",
       "      <th>TIPI10</th>\n",
       "      <th>Score</th>\n",
       "    </tr>\n",
       "  </thead>\n",
       "  <tbody>\n",
       "    <tr>\n",
       "      <th>0</th>\n",
       "      <td>2</td>\n",
       "      <td>3</td>\n",
       "      <td>2</td>\n",
       "      <td>2</td>\n",
       "      <td>16</td>\n",
       "      <td>1</td>\n",
       "      <td>12</td>\n",
       "      <td>1</td>\n",
       "      <td>10</td>\n",
       "      <td>2</td>\n",
       "      <td>...</td>\n",
       "      <td>5</td>\n",
       "      <td>7</td>\n",
       "      <td>7</td>\n",
       "      <td>7</td>\n",
       "      <td>7</td>\n",
       "      <td>7</td>\n",
       "      <td>5</td>\n",
       "      <td>1</td>\n",
       "      <td>1</td>\n",
       "      <td>Good part of the time</td>\n",
       "    </tr>\n",
       "    <tr>\n",
       "      <th>1</th>\n",
       "      <td>2</td>\n",
       "      <td>3</td>\n",
       "      <td>2</td>\n",
       "      <td>1</td>\n",
       "      <td>16</td>\n",
       "      <td>2</td>\n",
       "      <td>7</td>\n",
       "      <td>0</td>\n",
       "      <td>70</td>\n",
       "      <td>2</td>\n",
       "      <td>...</td>\n",
       "      <td>5</td>\n",
       "      <td>4</td>\n",
       "      <td>7</td>\n",
       "      <td>5</td>\n",
       "      <td>4</td>\n",
       "      <td>7</td>\n",
       "      <td>7</td>\n",
       "      <td>1</td>\n",
       "      <td>5</td>\n",
       "      <td>Good part of the time</td>\n",
       "    </tr>\n",
       "    <tr>\n",
       "      <th>2</th>\n",
       "      <td>2</td>\n",
       "      <td>3</td>\n",
       "      <td>2</td>\n",
       "      <td>2</td>\n",
       "      <td>17</td>\n",
       "      <td>1</td>\n",
       "      <td>4</td>\n",
       "      <td>3</td>\n",
       "      <td>60</td>\n",
       "      <td>1</td>\n",
       "      <td>...</td>\n",
       "      <td>5</td>\n",
       "      <td>2</td>\n",
       "      <td>2</td>\n",
       "      <td>5</td>\n",
       "      <td>6</td>\n",
       "      <td>5</td>\n",
       "      <td>5</td>\n",
       "      <td>3</td>\n",
       "      <td>2</td>\n",
       "      <td>Good part of the time</td>\n",
       "    </tr>\n",
       "    <tr>\n",
       "      <th>3</th>\n",
       "      <td>1</td>\n",
       "      <td>3</td>\n",
       "      <td>2</td>\n",
       "      <td>1</td>\n",
       "      <td>13</td>\n",
       "      <td>2</td>\n",
       "      <td>4</td>\n",
       "      <td>5</td>\n",
       "      <td>70</td>\n",
       "      <td>2</td>\n",
       "      <td>...</td>\n",
       "      <td>1</td>\n",
       "      <td>7</td>\n",
       "      <td>4</td>\n",
       "      <td>6</td>\n",
       "      <td>4</td>\n",
       "      <td>6</td>\n",
       "      <td>1</td>\n",
       "      <td>6</td>\n",
       "      <td>1</td>\n",
       "      <td>Some of the time</td>\n",
       "    </tr>\n",
       "    <tr>\n",
       "      <th>4</th>\n",
       "      <td>3</td>\n",
       "      <td>2</td>\n",
       "      <td>2</td>\n",
       "      <td>2</td>\n",
       "      <td>19</td>\n",
       "      <td>3</td>\n",
       "      <td>10</td>\n",
       "      <td>1</td>\n",
       "      <td>10</td>\n",
       "      <td>2</td>\n",
       "      <td>...</td>\n",
       "      <td>5</td>\n",
       "      <td>3</td>\n",
       "      <td>6</td>\n",
       "      <td>5</td>\n",
       "      <td>5</td>\n",
       "      <td>5</td>\n",
       "      <td>6</td>\n",
       "      <td>3</td>\n",
       "      <td>3</td>\n",
       "      <td>Good part of the time</td>\n",
       "    </tr>\n",
       "  </tbody>\n",
       "</table>\n",
       "<p>5 rows × 41 columns</p>\n",
       "</div>"
      ],
      "text/plain": [
       "   education  urban  gender  engnat  age  hand  religion  orientation  race  \\\n",
       "0          2      3       2       2   16     1        12            1    10   \n",
       "1          2      3       2       1   16     2         7            0    70   \n",
       "2          2      3       2       2   17     1         4            3    60   \n",
       "3          1      3       2       1   13     2         4            5    70   \n",
       "4          3      2       2       2   19     3        10            1    10   \n",
       "\n",
       "   voted  ...  TIPI2  TIPI3  TIPI4  TIPI5  TIPI6  TIPI7  TIPI8  TIPI9  TIPI10  \\\n",
       "0      2  ...      5      7      7      7      7      7      5      1       1   \n",
       "1      2  ...      5      4      7      5      4      7      7      1       5   \n",
       "2      1  ...      5      2      2      5      6      5      5      3       2   \n",
       "3      2  ...      1      7      4      6      4      6      1      6       1   \n",
       "4      2  ...      5      3      6      5      5      5      6      3       3   \n",
       "\n",
       "                   Score  \n",
       "0  Good part of the time  \n",
       "1  Good part of the time  \n",
       "2  Good part of the time  \n",
       "3       Some of the time  \n",
       "4  Good part of the time  \n",
       "\n",
       "[5 rows x 41 columns]"
      ]
     },
     "execution_count": 33,
     "metadata": {},
     "output_type": "execute_result"
    }
   ],
   "source": [
    "df_gen.head()"
   ]
  },
  {
   "cell_type": "code",
   "execution_count": 34,
   "metadata": {},
   "outputs": [
    {
     "data": {
      "text/plain": [
       "RandomForestClassifier(criterion='entropy', min_samples_leaf=3,\n",
       "                       n_estimators=200)"
      ]
     },
     "execution_count": 34,
     "metadata": {},
     "output_type": "execute_result"
    }
   ],
   "source": [
    "from sklearn.model_selection import GridSearchCV\n",
    "X = df_gen.drop('Score', axis = 1)\n",
    "y = df_gen['Score']\n",
    "X_train_t, X_test_t, y_train_t, y_test_t = train_test_split(X, y, test_size=0.25, random_state=42)\n",
    "#param_grid = {'n_estimators' : [200], 'criterion' : ['gini', 'entropy'], 'min_samples_leaf' : [1,2,3], 'bootstrap' : [False, True]}\n",
    "#grid = GridSearchCV(RandomForestClassifier(), param_grid=param_grid)\n",
    "#grid.fit(X_train, y_train)\n",
    "rfc = RandomForestClassifier(bootstrap = True, criterion = 'entropy', min_samples_leaf = 3, n_estimators = 200)\n",
    "rfc.fit(X_train_t, y_train_t)"
   ]
  },
  {
   "cell_type": "code",
   "execution_count": 35,
   "metadata": {},
   "outputs": [
    {
     "name": "stdout",
     "output_type": "stream",
     "text": [
      "                            precision    recall  f1-score   support\n",
      "\n",
      "Did not apply to me at all       0.70      0.39      0.50       963\n",
      "     Good part of the time       0.59      0.65      0.62      2882\n",
      "          Most of the time       0.71      0.16      0.26       643\n",
      "          Some of the time       0.59      0.71      0.64      3169\n",
      "\n",
      "                  accuracy                           0.60      7657\n",
      "                 macro avg       0.65      0.48      0.51      7657\n",
      "              weighted avg       0.61      0.60      0.58      7657\n",
      "\n"
     ]
    }
   ],
   "source": [
    "y_pred = rfc.predict(X_test_t)\n",
    "print(classification_report(y_test_t, y_pred))"
   ]
  },
  {
   "cell_type": "markdown",
   "metadata": {},
   "source": [
    "Alright so an accuracy of 61%, a bit higher than that of the logistic regression when just looking at the personality questions but not by much. This tells me that the personality questions play a significant role in determining the severity of depression while other general questions and being able to define a word doesn't tell much about the severity of depression"
   ]
  },
  {
   "cell_type": "code",
   "execution_count": 36,
   "metadata": {},
   "outputs": [],
   "source": [
    "from keras.utils import np_utils\n",
    "X = df_gen.drop('Score', axis = 1)\n",
    "#X['testelapse'] = mn.fit_transform(X['testelapse'].values.reshape((-1, 1)))\n",
    "y = lb.fit_transform(df_gen['Score'])\n",
    "y = np_utils.to_categorical(y) #So apparently if you do multiclassification, keras wants it in multiple different columns"
   ]
  },
  {
   "cell_type": "code",
   "execution_count": 37,
   "metadata": {},
   "outputs": [],
   "source": [
    "dummies = pd.get_dummies(X.drop('testelapse', axis = 1).astype(str), drop_first=True)\n",
    "X = pd.concat([X['testelapse'], dummies], axis = 1).values"
   ]
  },
  {
   "cell_type": "code",
   "execution_count": 38,
   "metadata": {},
   "outputs": [],
   "source": [
    "from sklearn.preprocessing import MinMaxScaler\n",
    "mn = MinMaxScaler()\n",
    "X_train, X_test, y_train, y_test = train_test_split(X, y, test_size=0.25, random_state=42)\n",
    "X_train = mn.fit_transform(X_train)\n",
    "X_test = mn.transform(X_test)"
   ]
  },
  {
   "cell_type": "code",
   "execution_count": 39,
   "metadata": {},
   "outputs": [],
   "source": [
    "import tensorflow as tf\n",
    "from tensorflow.keras.models import Sequential\n",
    "from tensorflow.keras.layers import Dense, Dropout"
   ]
  },
  {
   "cell_type": "code",
   "execution_count": 40,
   "metadata": {},
   "outputs": [],
   "source": [
    "import os\n",
    "os.environ['CUDA_VISIBLE_DEVICES'] = \"-1\"\n",
    "model = Sequential()\n",
    "#input_dim is number of columns in X, number of neurons shoud be between number of columns in X (361) and number of target classes in y (4)\n",
    "model.add(Dense(79, input_dim = 361, activation = 'relu'))\n",
    "model.add(Dropout(rate = 0.3))\n",
    "\n",
    "model.add(Dense(39, activation = 'relu'))\n",
    "model.add(Dropout(rate = 0.3))\n",
    "\n",
    "model.add(Dense(18, activation = 'relu'))\n",
    "model.add(Dropout(rate = 0.3))\n",
    "\n",
    "model.add(Dense(4, activation = 'softmax')) #softmax is for multi-classification\n",
    "\n",
    "model.compile(loss = 'categorical_crossentropy', optimizer = 'adam')"
   ]
  },
  {
   "cell_type": "code",
   "execution_count": 41,
   "metadata": {},
   "outputs": [
    {
     "name": "stdout",
     "output_type": "stream",
     "text": [
      "Epoch 1/50\n",
      "718/718 [==============================] - 2s 2ms/step - loss: 1.0906 - val_loss: 0.9272\n",
      "Epoch 2/50\n",
      "718/718 [==============================] - 1s 1ms/step - loss: 0.9805 - val_loss: 0.9036\n",
      "Epoch 3/50\n",
      "718/718 [==============================] - 1s 1ms/step - loss: 0.9511 - val_loss: 0.8932\n",
      "Epoch 4/50\n",
      "718/718 [==============================] - 1s 1ms/step - loss: 0.9358 - val_loss: 0.8876\n",
      "Epoch 5/50\n",
      "718/718 [==============================] - 1s 1ms/step - loss: 0.9181 - val_loss: 0.8887\n",
      "Epoch 6/50\n",
      "718/718 [==============================] - 1s 2ms/step - loss: 0.9097 - val_loss: 0.8868\n",
      "Epoch 7/50\n",
      "718/718 [==============================] - 1s 2ms/step - loss: 0.9011 - val_loss: 0.8887\n",
      "Epoch 8/50\n",
      "718/718 [==============================] - 1s 1ms/step - loss: 0.8873 - val_loss: 0.8892\n",
      "Epoch 9/50\n",
      "718/718 [==============================] - 1s 2ms/step - loss: 0.8802 - val_loss: 0.8911\n",
      "Epoch 10/50\n",
      "718/718 [==============================] - 1s 2ms/step - loss: 0.8691 - val_loss: 0.8952\n",
      "Epoch 11/50\n",
      "718/718 [==============================] - 1s 1ms/step - loss: 0.8606 - val_loss: 0.8938\n",
      "Epoch 12/50\n",
      "718/718 [==============================] - 1s 1ms/step - loss: 0.8545 - val_loss: 0.8968\n",
      "Epoch 13/50\n",
      "718/718 [==============================] - 1s 1ms/step - loss: 0.8461 - val_loss: 0.9033\n",
      "Epoch 14/50\n",
      "718/718 [==============================] - 1s 1ms/step - loss: 0.8379 - val_loss: 0.9046\n",
      "Epoch 15/50\n",
      "718/718 [==============================] - 1s 1ms/step - loss: 0.8302 - val_loss: 0.9135\n",
      "Epoch 16/50\n",
      "718/718 [==============================] - 1s 2ms/step - loss: 0.8231 - val_loss: 0.9149\n",
      "Epoch 17/50\n",
      "718/718 [==============================] - 1s 2ms/step - loss: 0.8139 - val_loss: 0.9236\n",
      "Epoch 18/50\n",
      "718/718 [==============================] - 1s 1ms/step - loss: 0.8089 - val_loss: 0.9286\n",
      "Epoch 19/50\n",
      "718/718 [==============================] - 1s 1ms/step - loss: 0.7981 - val_loss: 0.9373\n",
      "Epoch 20/50\n",
      "718/718 [==============================] - 1s 2ms/step - loss: 0.7945 - val_loss: 0.9433\n",
      "Epoch 21/50\n",
      "718/718 [==============================] - 1s 1ms/step - loss: 0.7928 - val_loss: 0.9453\n",
      "Epoch 22/50\n",
      "718/718 [==============================] - 1s 1ms/step - loss: 0.7849 - val_loss: 0.9410\n",
      "Epoch 23/50\n",
      "718/718 [==============================] - 1s 1ms/step - loss: 0.7772 - val_loss: 0.9506\n",
      "Epoch 24/50\n",
      "718/718 [==============================] - 1s 1ms/step - loss: 0.7715 - val_loss: 0.9595\n",
      "Epoch 25/50\n",
      "718/718 [==============================] - 1s 1ms/step - loss: 0.7718 - val_loss: 0.9682\n",
      "Epoch 26/50\n",
      "718/718 [==============================] - 1s 1ms/step - loss: 0.7594 - val_loss: 0.9722\n",
      "Epoch 27/50\n",
      "718/718 [==============================] - 1s 1ms/step - loss: 0.7564 - val_loss: 0.9794\n",
      "Epoch 28/50\n",
      "718/718 [==============================] - 1s 1ms/step - loss: 0.7538 - val_loss: 0.9796\n",
      "Epoch 29/50\n",
      "718/718 [==============================] - 1s 1ms/step - loss: 0.7492 - val_loss: 0.9812\n",
      "Epoch 30/50\n",
      "718/718 [==============================] - 1s 1ms/step - loss: 0.7460 - val_loss: 0.9997\n",
      "Epoch 31/50\n",
      "718/718 [==============================] - 1s 1ms/step - loss: 0.7419 - val_loss: 1.0031\n",
      "Epoch 32/50\n",
      "718/718 [==============================] - 1s 2ms/step - loss: 0.7393 - val_loss: 0.9987\n",
      "Epoch 33/50\n",
      "718/718 [==============================] - 1s 1ms/step - loss: 0.7383 - val_loss: 1.0017\n",
      "Epoch 34/50\n",
      "718/718 [==============================] - 1s 1ms/step - loss: 0.7308 - val_loss: 1.0168\n",
      "Epoch 35/50\n",
      "718/718 [==============================] - 1s 1ms/step - loss: 0.7287 - val_loss: 1.0226\n",
      "Epoch 36/50\n",
      "718/718 [==============================] - 1s 1ms/step - loss: 0.7295 - val_loss: 1.0388\n",
      "Epoch 37/50\n",
      "718/718 [==============================] - 1s 1ms/step - loss: 0.7186 - val_loss: 1.0425\n",
      "Epoch 38/50\n",
      "718/718 [==============================] - 1s 1ms/step - loss: 0.7196 - val_loss: 1.0311\n",
      "Epoch 39/50\n",
      "718/718 [==============================] - 1s 1ms/step - loss: 0.7132 - val_loss: 1.0496\n",
      "Epoch 40/50\n",
      "718/718 [==============================] - 1s 1ms/step - loss: 0.7134 - val_loss: 1.0818\n",
      "Epoch 41/50\n",
      "718/718 [==============================] - 1s 1ms/step - loss: 0.7089 - val_loss: 1.0542\n",
      "Epoch 42/50\n",
      "718/718 [==============================] - 1s 1ms/step - loss: 0.7061 - val_loss: 1.0546\n",
      "Epoch 43/50\n",
      "718/718 [==============================] - 1s 1ms/step - loss: 0.7102 - val_loss: 1.0577\n",
      "Epoch 44/50\n",
      "718/718 [==============================] - 1s 1ms/step - loss: 0.7048 - val_loss: 1.0821\n",
      "Epoch 45/50\n",
      "718/718 [==============================] - 1s 1ms/step - loss: 0.7045 - val_loss: 1.0944\n",
      "Epoch 46/50\n",
      "718/718 [==============================] - 1s 1ms/step - loss: 0.6944 - val_loss: 1.0783\n",
      "Epoch 47/50\n",
      "718/718 [==============================] - 1s 1ms/step - loss: 0.6966 - val_loss: 1.1175\n",
      "Epoch 48/50\n",
      "718/718 [==============================] - 1s 1ms/step - loss: 0.6970 - val_loss: 1.0699\n",
      "Epoch 49/50\n",
      "718/718 [==============================] - 1s 1ms/step - loss: 0.6914 - val_loss: 1.0993\n",
      "Epoch 50/50\n",
      "718/718 [==============================] - 1s 1ms/step - loss: 0.6920 - val_loss: 1.0927\n"
     ]
    },
    {
     "data": {
      "text/plain": [
       "<keras.callbacks.History at 0x22f91d508e0>"
      ]
     },
     "execution_count": 41,
     "metadata": {},
     "output_type": "execute_result"
    }
   ],
   "source": [
    "model.fit(X_train, y_train, epochs = 50, validation_data=(X_test, y_test))"
   ]
  },
  {
   "cell_type": "code",
   "execution_count": 42,
   "metadata": {},
   "outputs": [],
   "source": [
    "y_pred_t = (model.predict(X_test) > 0.5).astype(\"int32\")"
   ]
  },
  {
   "cell_type": "code",
   "execution_count": 43,
   "metadata": {},
   "outputs": [
    {
     "name": "stdout",
     "output_type": "stream",
     "text": [
      "              precision    recall  f1-score   support\n",
      "\n",
      "           0       0.60      0.42      0.49       963\n",
      "           1       0.58      0.60      0.59      2882\n",
      "           2       0.58      0.21      0.31       643\n",
      "           3       0.59      0.60      0.59      3169\n",
      "\n",
      "   micro avg       0.58      0.54      0.56      7657\n",
      "   macro avg       0.58      0.46      0.50      7657\n",
      "weighted avg       0.58      0.54      0.55      7657\n",
      " samples avg       0.54      0.54      0.54      7657\n",
      "\n"
     ]
    },
    {
     "name": "stderr",
     "output_type": "stream",
     "text": [
      "C:\\Users\\at488\\AppData\\Local\\Programs\\Python\\Python38\\lib\\site-packages\\sklearn\\metrics\\_classification.py:1245: UndefinedMetricWarning: Precision and F-score are ill-defined and being set to 0.0 in samples with no predicted labels. Use `zero_division` parameter to control this behavior.\n",
      "  _warn_prf(average, modifier, msg_start, len(result))\n"
     ]
    }
   ],
   "source": [
    "print(classification_report(y_test, y_pred_t))"
   ]
  },
  {
   "cell_type": "markdown",
   "metadata": {},
   "source": [
    "Alright so Neural Networks ends up with an accuracy of about 56%, a bit lower than Random Forest but still a decent estimator of overall severity of depression."
   ]
  },
  {
   "cell_type": "code",
   "execution_count": 44,
   "metadata": {},
   "outputs": [
    {
     "data": {
      "text/plain": [
       "GradientBoostingClassifier(n_estimators=150)"
      ]
     },
     "execution_count": 44,
     "metadata": {},
     "output_type": "execute_result"
    }
   ],
   "source": [
    "from sklearn.ensemble import GradientBoostingClassifier\n",
    "#param_grid = {'loss' : ['deviance', 'exponential'], 'learning_rate' : [0.1, 1], 'n_estimators' : [120], 'max_depth' : [3,5]}\n",
    "#grid = GridSearchCV(GradientBoostingClassifier(), param_grid=param_grid)\n",
    "#grid.fit(X_train_t, y_train_t)\n",
    "gbd = GradientBoostingClassifier(n_estimators =  150)\n",
    "gbd.fit(X_train_t, y_train_t)"
   ]
  },
  {
   "cell_type": "code",
   "execution_count": 45,
   "metadata": {},
   "outputs": [
    {
     "name": "stdout",
     "output_type": "stream",
     "text": [
      "                            precision    recall  f1-score   support\n",
      "\n",
      "Did not apply to me at all       0.67      0.45      0.54       963\n",
      "     Good part of the time       0.60      0.65      0.63      2882\n",
      "          Most of the time       0.63      0.28      0.39       643\n",
      "          Some of the time       0.60      0.69      0.64      3169\n",
      "\n",
      "                  accuracy                           0.61      7657\n",
      "                 macro avg       0.63      0.52      0.55      7657\n",
      "              weighted avg       0.61      0.61      0.60      7657\n",
      "\n"
     ]
    }
   ],
   "source": [
    "y_pred = gbd.predict(X_test_t)\n",
    "print(classification_report(y_test_t, y_pred))"
   ]
  },
  {
   "cell_type": "markdown",
   "metadata": {},
   "source": [
    "Just like Random Forest, Gradient Boosting also ends up with an accuracy of 61%."
   ]
  },
  {
   "cell_type": "code",
   "execution_count": 48,
   "metadata": {},
   "outputs": [
    {
     "data": {
      "text/plain": [
       "SVC()"
      ]
     },
     "execution_count": 48,
     "metadata": {},
     "output_type": "execute_result"
    }
   ],
   "source": [
    "from sklearn.svm import SVC\n",
    "#param_grid = {'C' : [0.1, 1], 'kernel': ['poly', 'rbf']}\n",
    "#grid = GridSearchCV(SVC(), param_grid)\n",
    "X = df_gen.drop('Score', axis = 1)\n",
    "y = df_gen['Score']\n",
    "dummies = pd.get_dummies(X.drop('testelapse', axis = 1).astype(str), drop_first=True)\n",
    "X = pd.concat([X['testelapse'], dummies], axis = 1)\n",
    "X_train, X_test, y_train, y_test = train_test_split(X, y, test_size=0.25, random_state=42)\n",
    "X_train = mn.fit_transform(X_train)\n",
    "X_test = mn.transform(X_test)\n",
    "svc = SVC()\n",
    "svc.fit(X_train, y_train)\n",
    "#grid.fit(X_train, y_train)"
   ]
  },
  {
   "cell_type": "code",
   "execution_count": 49,
   "metadata": {},
   "outputs": [
    {
     "name": "stdout",
     "output_type": "stream",
     "text": [
      "                            precision    recall  f1-score   support\n",
      "\n",
      "Did not apply to me at all       0.70      0.38      0.49       963\n",
      "     Good part of the time       0.59      0.65      0.62      2882\n",
      "          Most of the time       0.71      0.09      0.17       643\n",
      "          Some of the time       0.59      0.72      0.65      3169\n",
      "\n",
      "                  accuracy                           0.60      7657\n",
      "                 macro avg       0.65      0.46      0.48      7657\n",
      "              weighted avg       0.61      0.60      0.58      7657\n",
      "\n"
     ]
    }
   ],
   "source": [
    "y_pred = svc.predict(X_test)\n",
    "print(classification_report(y_test, y_pred))"
   ]
  },
  {
   "cell_type": "markdown",
   "metadata": {},
   "source": [
    "Alright well SVC comes pretty close to Random Forest and Gradient Boosting but still has less accuracy."
   ]
  },
  {
   "cell_type": "markdown",
   "metadata": {},
   "source": [
    "Alright that's all for my dataset! I hope you've enjoyed reading my work and feel free to leave a like or any comments. Have a great day!"
   ]
  }
 ],
 "metadata": {
  "interpreter": {
   "hash": "02a1b4c3173a0af72a0146bd53230c1a87c40259f6a64a63f022039de1152ddc"
  },
  "kernelspec": {
   "display_name": "Python 3.8.6 64-bit",
   "language": "python",
   "name": "python3"
  },
  "language_info": {
   "codemirror_mode": {
    "name": "ipython",
    "version": 3
   },
   "file_extension": ".py",
   "mimetype": "text/x-python",
   "name": "python",
   "nbconvert_exporter": "python",
   "pygments_lexer": "ipython3",
   "version": "3.8.6"
  },
  "orig_nbformat": 4
 },
 "nbformat": 4,
 "nbformat_minor": 2
}
